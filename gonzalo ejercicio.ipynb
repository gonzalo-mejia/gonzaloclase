{
 "cells": [
  {
   "cell_type": "markdown",
   "metadata": {},
   "source": [
    "print(\"Ejercicio:\n",
    "\n",
    "Satélite orbitando la Tierra.\n",
    "1. Calcule la altura sobre la superficie (h) terrestre a la que\n",
    "debe estar un satélite que órbita la Tierra con período T.\n",
    "2. Escriba un programa que estime h a partir de un período\n",
    "dado.\n",
    "3. Estime la altura para un T de un día (geosincrónico), 90\n",
    "min y 45 min.\n",
    "4. Técnicamente, el período T de un sátelite geosincrónico\n",
    "es por día sideral (23.93 h). Cuánta es la diferencia en h,\n",
    "18\n",
    "para un período de 24 h?\")"
   ]
  },
  {
   "cell_type": "markdown",
   "metadata": {},
   "source": [
    "solucion"
   ]
  },
  {
   "cell_type": "markdown",
   "metadata": {},
   "source": [
    "1.para resolver este primer punto utilizamos la relacion entre la fuerza centripeta y la fuerza gravitacional, las cuales tendremos acontinuacion:\n",
    "\\begin{equation}\n",
    "F_{g}=\\frac{G*M1*M2}{R^2}\n",
    "\\end{equation}\n",
    "\n",
    "\\begin{equation}\n",
    "F_{c}=\\frac{M2*V^2}{R}\n",
    "\\end{equation}\n",
    "\n",
    "luego igualamos las dos fuerzas y despejamos R.\n",
    "\n",
    "\\begin{equation}\n",
    "R=\\sqrt[3]{\\frac{G*M2*T^2}{4\\pi^2}}\n",
    "\\end{equation}"
   ]
  },
  {
   "cell_type": "markdown",
   "metadata": {},
   "source": [
    "2. programa que estima la altura a partir del periodo."
   ]
  },
  {
   "cell_type": "code",
   "execution_count": null,
   "metadata": {},
   "outputs": [],
   "source": [
    "g=6.67e-11\n",
    "m=5.97e24\n",
    "r=6371e3\n",
    "T=float(input(\"entre el valor de T:\"))\n",
    "h=(g*m/((2*3.1416/T)**2))**(1/3)\n",
    "print(\"la distancia es:\",h-r)"
   ]
  },
  {
   "cell_type": "markdown",
   "metadata": {},
   "source": [
    "3.\n",
    "\n",
    "a) altura para un periodo de un dia.\n"
   ]
  },
  {
   "cell_type": "code",
   "execution_count": 13,
   "metadata": {},
   "outputs": [
    {
     "name": "stdout",
     "output_type": "stream",
     "text": [
      "entre el valor de T:86400\n",
      "la distancia es: 35855844.34638022\n"
     ]
    }
   ],
   "source": [
    "g=6.67e-11\n",
    "m=5.97e24\n",
    "r=6371e3\n",
    "T=float(input(\"entre el valor de T:\"))\n",
    "h=(g*m/((2*3.1416/T)**2))**(1/3)\n",
    "print(\"la distancia es:\",h-r)"
   ]
  },
  {
   "cell_type": "markdown",
   "metadata": {},
   "source": [
    "b) altura para un periodo de 90 minutos"
   ]
  },
  {
   "cell_type": "code",
   "execution_count": 15,
   "metadata": {},
   "outputs": [
    {
     "name": "stdout",
     "output_type": "stream",
     "text": [
      "entre el valor de T:5400\n",
      "la distancia es: 279311.25782984495\n"
     ]
    }
   ],
   "source": [
    "g=6.67e-11\n",
    "m=5.97e24\n",
    "r=6371e3\n",
    "T=float(input(\"entre el valor de T:\"))\n",
    "h=(g*m/((2*3.1416/T)**2))**(1/3)\n",
    "print(\"la distancia es:\",h-r)"
   ]
  },
  {
   "cell_type": "markdown",
   "metadata": {},
   "source": [
    "c) altura para un periodo de 45 minutos"
   ]
  },
  {
   "cell_type": "code",
   "execution_count": 16,
   "metadata": {},
   "outputs": [
    {
     "name": "stdout",
     "output_type": "stream",
     "text": [
      "entre el valor de T:2700\n",
      "la distancia es: -2181566.428953664\n"
     ]
    }
   ],
   "source": [
    "g=6.67e-11\n",
    "m=5.97e24\n",
    "r=6371e3\n",
    "T=float(input(\"entre el valor de T:\"))\n",
    "h=(g*m/((2*3.1416/T)**2))**(1/3)\n",
    "print(\"la distancia es:\",h-r)"
   ]
  },
  {
   "cell_type": "markdown",
   "metadata": {},
   "source": [
    "4."
   ]
  },
  {
   "cell_type": "code",
   "execution_count": 18,
   "metadata": {},
   "outputs": [
    {
     "name": "stdout",
     "output_type": "stream",
     "text": [
      "entre el valor de T:86184\n",
      "la distancia es: 35785436.91564208\n"
     ]
    }
   ],
   "source": [
    "g=6.67e-11\n",
    "m=5.97e24\n",
    "r=6371e3\n",
    "T=float(input(\"entre el valor de T:\"))\n",
    "h=(g*m/((2*3.1416/T)**2))**(1/3)\n",
    "print(\"la distancia es:\",h-r)"
   ]
  },
  {
   "cell_type": "code",
   "execution_count": null,
   "metadata": {},
   "outputs": [],
   "source": [
    "la diferencia de altura dio 82.147 metros."
   ]
  }
 ],
 "metadata": {
  "kernelspec": {
   "display_name": "Python 3",
   "language": "python",
   "name": "python3"
  },
  "language_info": {
   "codemirror_mode": {
    "name": "ipython",
    "version": 3
   },
   "file_extension": ".py",
   "mimetype": "text/x-python",
   "name": "python",
   "nbconvert_exporter": "python",
   "pygments_lexer": "ipython3",
   "version": "3.5.2"
  }
 },
 "nbformat": 4,
 "nbformat_minor": 2
}
